{
 "cells": [
  {
   "cell_type": "code",
   "execution_count": 2,
   "metadata": {},
   "outputs": [],
   "source": [
    "import gurobipy as gp"
   ]
  },
  {
   "cell_type": "code",
   "execution_count": 3,
   "metadata": {},
   "outputs": [],
   "source": [
    "from gurobipy import Model, GRB, quicksum"
   ]
  },
  {
   "cell_type": "code",
   "execution_count": 4,
   "metadata": {},
   "outputs": [],
   "source": [
    "# Conjuntos\n",
    "I = list(range(12))  # Piezas, las primeras seis piezas son de tipo uno (2x4x1) y las ultimas seis piezas son de tipo 2 (2x3x2)\n",
    "R = list(range(6))   # Rotaciones (6 posibles)"
   ]
  },
  {
   "cell_type": "code",
   "execution_count": 5,
   "metadata": {},
   "outputs": [],
   "source": [
    "# Dimensiones de la caja \n",
    "W, L, H = 5,5,5"
   ]
  },
  {
   "cell_type": "code",
   "execution_count": 6,
   "metadata": {},
   "outputs": [
    {
     "name": "stdout",
     "output_type": "stream",
     "text": [
      "{1: {0: (2, 4, 1), 1: (2, 1, 4), 2: (4, 2, 1), 3: (4, 1, 2), 4: (1, 2, 4), 5: (1, 4, 2)}, 2: {0: (2, 3, 2), 1: (2, 2, 3), 2: (3, 2, 2), 3: (3, 2, 2), 4: (2, 2, 3), 5: (2, 3, 2)}}\n"
     ]
    }
   ],
   "source": [
    "# Dimensiones de una pieza(ancho, largo, alto)\n",
    "#Tipo 1\n",
    "w1, l1, h1 = 2, 4, 1\n",
    "#Tipo 2\n",
    "w2,l2,h2= 2,3,2\n",
    "# Definición de las rotaciones\n",
    "rotaciones = [\n",
    "    lambda w, l, h: (w, l, h),\n",
    "    lambda w, l, h: (w, h, l),\n",
    "    lambda w, l, h: (l, w, h),\n",
    "    lambda w, l, h: (l, h, w),\n",
    "    lambda w, l, h: (h, w, l),\n",
    "    lambda w, l, h: (h, l, w)\n",
    "]\n",
    "\n",
    "# Diccionario  donde se especifica la dimension (ancho, largo, alto) de la pieza segun su tipo y rotación \n",
    "pieza_rotaciones = {\n",
    "    1: {r: rotaciones[r](w1, l1, h1) for r in range(6)}, 2:{r: rotaciones[r](w2, l2, h2) for r in range(6)}\n",
    "}\n",
    "\n",
    "print(pieza_rotaciones)"
   ]
  },
  {
   "cell_type": "code",
   "execution_count": 7,
   "metadata": {},
   "outputs": [
    {
     "name": "stdout",
     "output_type": "stream",
     "text": [
      "{1: {0: 2, 1: 2, 2: 4, 3: 4, 4: 1, 5: 1}, 2: {0: 2, 1: 2, 2: 3, 3: 3, 4: 2, 5: 2}}\n"
     ]
    }
   ],
   "source": [
    "#Diccionario donde se especifica el ancho de la pieza segun tipo y rotación\n",
    "w_ir = {piece: {rotation: pieza_rotaciones[piece][rotation][0] for rotation in pieza_rotaciones[piece]} for piece in pieza_rotaciones}\n",
    "print(w_ir)"
   ]
  },
  {
   "cell_type": "code",
   "execution_count": 8,
   "metadata": {},
   "outputs": [
    {
     "name": "stdout",
     "output_type": "stream",
     "text": [
      "{1: {0: 4, 1: 1, 2: 2, 3: 1, 4: 2, 5: 4}, 2: {0: 3, 1: 2, 2: 2, 3: 2, 4: 2, 5: 3}}\n"
     ]
    }
   ],
   "source": [
    "#Diccionario donde se especifica el largo de la pieza segun tipo y rotación\n",
    "l_ir = {piece: {rotation: pieza_rotaciones[piece][rotation][1] for rotation in pieza_rotaciones[piece]} for piece in pieza_rotaciones}\n",
    "print(l_ir)"
   ]
  },
  {
   "cell_type": "code",
   "execution_count": 9,
   "metadata": {},
   "outputs": [
    {
     "name": "stdout",
     "output_type": "stream",
     "text": [
      "{1: {0: 1, 1: 4, 2: 1, 3: 2, 4: 4, 5: 2}, 2: {0: 2, 1: 3, 2: 2, 3: 2, 4: 3, 5: 2}}\n"
     ]
    }
   ],
   "source": [
    "#Diccionario donde se especifica el alto de la pieza segun tipo y rotación\n",
    "h_ir = {piece: {rotation: pieza_rotaciones[piece][rotation][2] for rotation in pieza_rotaciones[piece]} for piece in pieza_rotaciones}\n",
    "print(h_ir)"
   ]
  },
  {
   "cell_type": "code",
   "execution_count": 10,
   "metadata": {},
   "outputs": [],
   "source": [
    "# Constante M suficientemente grande\n",
    "M = 100"
   ]
  },
  {
   "cell_type": "code",
   "execution_count": 11,
   "metadata": {},
   "outputs": [
    {
     "name": "stdout",
     "output_type": "stream",
     "text": [
      "Set parameter Username\n",
      "Set parameter LicenseID to value 2616364\n",
      "Academic license - for non-commercial use only - expires 2026-01-29\n"
     ]
    }
   ],
   "source": [
    "# Crear el modelo\n",
    "model = Model(\"3D-SKP\")"
   ]
  },
  {
   "cell_type": "code",
   "execution_count": 12,
   "metadata": {},
   "outputs": [],
   "source": [
    "# Variables de decisión\n",
    "X = model.addVars(I, R, vtype=GRB.BINARY, name=\"X\")  # Indica si la pieza i se en cuentra en la caja y en cual rotación r\n",
    "x = model.addVars(I, vtype=GRB.CONTINUOUS, name=\"x\")  # Coordenada x de la pieza i \n",
    "y = model.addVars(I, vtype=GRB.CONTINUOUS, name=\"y\")  # Coordenada y de la pieza i\n",
    "z = model.addVars(I, vtype=GRB.CONTINUOUS, name=\"z\")  # Coordenada z de la pieza i \n",
    "o=  model.addVars(I, vtype=GRB.BINARY, name=\"o\") # Indica si la pieza i se encuentra en la caja "
   ]
  },
  {
   "cell_type": "code",
   "execution_count": 13,
   "metadata": {},
   "outputs": [],
   "source": [
    "# Variables auxiliares para separación\n",
    "a = model.addVars(I, I, vtype=GRB.BINARY, name=\"a\")  # Indica si la pieza j esta a la derecha de la pieza i \n",
    "b = model.addVars(I, I, vtype=GRB.BINARY, name=\"b\")  # Indica si la pieza j esta a la izquierda de la pieza i\n",
    "c = model.addVars(I, I, vtype=GRB.BINARY, name=\"c\")  # Indica si la pieza j esta arriba de la pieza i\n",
    "d = model.addVars(I, I, vtype=GRB.BINARY, name=\"d\")  # Indica si la pieza j esta debajo de la pieza i\n",
    "e = model.addVars(I, I, vtype=GRB.BINARY, name=\"e\")  # Indica si la pieza j esta adelante de la pieza i\n",
    "f = model.addVars(I, I, vtype=GRB.BINARY, name=\"f\")  # Indica si la pieza j esta detras de la pieza i"
   ]
  },
  {
   "cell_type": "code",
   "execution_count": 14,
   "metadata": {},
   "outputs": [],
   "source": [
    "# Función objetivo: maximizar el número de piezas colocadas\n",
    "model.setObjective(quicksum(X[i, r] for i in I for r in R), GRB.MAXIMIZE)"
   ]
  },
  {
   "cell_type": "code",
   "execution_count": 15,
   "metadata": {},
   "outputs": [],
   "source": [
    "#Si la pieza i no esta ubicada dentro de la caja no puede tener activa ninguna de las rotaciones r \n",
    "for i in I:\n",
    "    for r in R:\n",
    "        model.addConstr(X[i,r] <= o[i])"
   ]
  },
  {
   "cell_type": "code",
   "execution_count": 16,
   "metadata": {},
   "outputs": [],
   "source": [
    "# Restricciones de capacidad de la caja teniendo en cuenta el tipo de pieza \n",
    "for i in I:\n",
    "    if i >=0 and i<=5:\n",
    "           model.addConstr(x[i] + quicksum(w_ir[1][r] * X[i, r] for r in R) <= W)\n",
    "           model.addConstr(y[i] + quicksum(l_ir[1][r] * X[i, r] for r in R) <= L)\n",
    "           model.addConstr(z[i] + quicksum(h_ir[1][r] * X[i, r] for r in R)<= H)\n",
    "    else:\n",
    "           model.addConstr(x[i] + quicksum(w_ir[2][r] * X[i, r] for r in R) <= W)\n",
    "           model.addConstr(y[i] + quicksum(l_ir[2][r] * X[i, r] for r in R)<= L)\n",
    "           model.addConstr(z[i] + quicksum(h_ir[2][r] * X[i, r] for r in R)<= H)\n",
    "\n"
   ]
  },
  {
   "cell_type": "code",
   "execution_count": 17,
   "metadata": {},
   "outputs": [],
   "source": [
    "# Para cada par de piezas ij, debe haber una relación directa entre ambas en uno de sus ejes \n",
    "for i in I:\n",
    "    for j in I:\n",
    "        if i<j:\n",
    "           model.addConstr(a[i,j]+b[i,j]+c[i,j]+d[i,j]+e[i,j]+f[i,j]== 1)\n",
    "    "
   ]
  },
  {
   "cell_type": "code",
   "execution_count": 18,
   "metadata": {},
   "outputs": [],
   "source": [
    "# Una pieza solo puede tener una rotación activa\n",
    "for i in I:\n",
    "    model.addConstr(quicksum(X[i, r] for r in R) <= 1, f\"OneRotation_{i}\")"
   ]
  },
  {
   "cell_type": "code",
   "execution_count": 19,
   "metadata": {},
   "outputs": [],
   "source": [
    "# Restricciones de no superposición segun el tipo de pieza ij \n",
    "for i in I:\n",
    "   for j in I:\n",
    "       if i >=0 and i<=5 and i != j:\n",
    "         model.addConstr(x[i] + quicksum(w_ir[1][r]* X[i,r] for r in R)<= x[j] + M * (1 - a[i, j]))\n",
    "         model.addConstr(y[i] + quicksum(l_ir[1][r]* X[i,r] for r in R) <= y[j] + M * (1- f[i, j]))\n",
    "         model.addConstr(z[i] + quicksum(h_ir[1][r]* X[i,r] for r in R)<= z[j] + M * (1 - c[i, j]))\n",
    "       if j>=0 and j<=5 and i!=j :\n",
    "         model.addConstr(x[j] + quicksum(w_ir[1][r]* X[j, r]for r in R)<= x[i] + M * (1 - b[i,j]))\n",
    "         model.addConstr(y[j] + quicksum(l_ir[1][r]* X[j, r] for r in R)<= y[i] + M * (1- e[i,j]))\n",
    "         model.addConstr(z[j] + quicksum(h_ir[1][r]* X[j, r] for r in R)<= z[i] + M * (1- d[i,j]))\n",
    "       if j >=6 and i != j:\n",
    "         model.addConstr(x[j] + quicksum(w_ir[2][r] * X[j, r] for r in R)<= x[i] + M * (1 - b[i,j]))\n",
    "         model.addConstr(y[j] + quicksum(l_ir[2][r] * X[j, r] for r in R) <= y[i] + M * (1 - e[i,j]))\n",
    "         model.addConstr(z[j] + quicksum(h_ir[2][r] * X[j, r] for r in R)<= z[i] + M * (1- d[i,j]))     \n",
    "       if i >=6 and i != j:\n",
    "         model.addConstr(x[i] + quicksum(w_ir[2][r] * X[i, r] for r in R)<= x[j] + M * (1 - a[i, j]))\n",
    "         model.addConstr(y[i] + quicksum(l_ir[2][r] * X[i, r] for r in R) <= y[j] + M * (1 - f[i, j]))\n",
    "         model.addConstr(z[i] + quicksum(h_ir[2][r] * X[i, r] for r in R)<= z[j] + M * (1 - c[i, j]))\n",
    " \n",
    "\n",
    "\n"
   ]
  },
  {
   "cell_type": "code",
   "execution_count": 20,
   "metadata": {},
   "outputs": [
    {
     "name": "stdout",
     "output_type": "stream",
     "text": [
      "Gurobi Optimizer version 12.0.1 build v12.0.1rc0 (win64 - Windows 11.0 (22631.2))\n",
      "\n",
      "CPU model: Intel(R) Core(TM) i7-8650U CPU @ 1.90GHz, instruction set [SSE2|AVX|AVX2]\n",
      "Thread count: 4 physical cores, 8 logical processors, using up to 8 threads\n",
      "\n",
      "Optimize a model with 978 rows, 984 columns and 7992 nonzeros\n",
      "Model fingerprint: 0x90c0c42c\n",
      "Variable types: 36 continuous, 948 integer (948 binary)\n",
      "Coefficient statistics:\n",
      "  Matrix range     [1e+00, 1e+02]\n",
      "  Objective range  [1e+00, 1e+00]\n",
      "  Bounds range     [1e+00, 1e+00]\n",
      "  RHS range        [1e+00, 1e+02]\n",
      "Found heuristic solution: objective -0.0000000\n",
      "Presolve removed 468 rows and 498 columns\n",
      "Presolve time: 0.02s\n",
      "Presolved: 510 rows, 486 columns, 3618 nonzeros\n",
      "Variable types: 36 continuous, 450 integer (450 binary)\n",
      "\n",
      "Root relaxation: objective 1.200000e+01, 188 iterations, 0.00 seconds (0.00 work units)\n",
      "\n",
      "    Nodes    |    Current Node    |     Objective Bounds      |     Work\n",
      " Expl Unexpl |  Obj  Depth IntInf | Incumbent    BestBd   Gap | It/Node Time\n",
      "\n",
      "     0     0   12.00000    0    6   -0.00000   12.00000      -     -    0s\n",
      "H    0     0                       9.0000000   12.00000  33.3%     -    0s\n",
      "H    0     0                      10.0000000   12.00000  20.0%     -    0s\n",
      "H    0     0                      11.0000000   12.00000  9.09%     -    0s\n",
      "     0     0   12.00000    0    4   11.00000   12.00000  9.09%     -    0s\n",
      "     0     0   12.00000    0   16   11.00000   12.00000  9.09%     -    0s\n",
      "     0     0   12.00000    0   12   11.00000   12.00000  9.09%     -    0s\n",
      "     0     0   12.00000    0    4   11.00000   12.00000  9.09%     -    0s\n",
      "     0     0   12.00000    0    4   11.00000   12.00000  9.09%     -    0s\n",
      "     0     0   12.00000    0    4   11.00000   12.00000  9.09%     -    0s\n",
      "     0     2   12.00000    0    4   11.00000   12.00000  9.09%     -    0s\n",
      " 12284  3641   12.00000   40    4   11.00000   12.00000  9.09%  10.3    5s\n",
      " 23239  6606   12.00000   51    9   11.00000   12.00000  9.09%  12.7   10s\n",
      " 36595  9276 infeasible   52        11.00000   12.00000  9.09%  11.4   15s\n",
      " 47797 11921   12.00000   58   12   11.00000   12.00000  9.09%  13.1   20s\n",
      " 69059 14869 infeasible   57        11.00000   12.00000  9.09%  12.5   25s\n",
      " 85890 19558   12.00000   38   22   11.00000   12.00000  9.09%  12.5   30s\n",
      " 103667 23978   12.00000   48   18   11.00000   12.00000  9.09%  12.2   35s\n",
      " 116177 26070 infeasible   61        11.00000   12.00000  9.09%  12.9   40s\n",
      " 133625 30092   12.00000   49   16   11.00000   12.00000  9.09%  13.3   45s\n",
      " 150571 33414 infeasible   46        11.00000   12.00000  9.09%  13.2   50s\n",
      " 162270 35342   12.00000   55   21   11.00000   12.00000  9.09%  13.4   55s\n",
      "*169308   559              54      12.0000000   12.00000  0.00%  13.6   59s\n",
      "\n",
      "Cutting planes:\n",
      "  Gomory: 8\n",
      "  Cover: 38\n",
      "  Implied bound: 39\n",
      "  Projected implied bound: 3\n",
      "  Clique: 7\n",
      "  MIR: 4\n",
      "  Flow cover: 38\n",
      "  GUB cover: 22\n",
      "  Inf proof: 1\n",
      "  Zero half: 2\n",
      "  RLT: 7\n",
      "  Relax-and-lift: 45\n",
      "\n",
      "Explored 169817 nodes (2311033 simplex iterations) in 59.26 seconds (28.22 work units)\n",
      "Thread count was 8 (of 8 available processors)\n",
      "\n",
      "Solution count 5: 12 11 10 ... -0\n",
      "\n",
      "Optimal solution found (tolerance 1.00e-04)\n",
      "Best objective 1.200000000000e+01, best bound 1.200000000000e+01, gap 0.0000%\n"
     ]
    }
   ],
   "source": [
    "# Resolver el modelo\n",
    "model.optimize()\n"
   ]
  },
  {
   "cell_type": "code",
   "execution_count": 21,
   "metadata": {},
   "outputs": [
    {
     "name": "stdout",
     "output_type": "stream",
     "text": [
      "\n",
      "Solución óptima encontrada:\n",
      "\n",
      "Pieza 0 colocada con rotación 1 en (0.00, 4.00, 1.00)\n",
      "Pieza 1 colocada con rotación 5 en (4.00, 1.00, 3.00)\n",
      "Pieza 2 colocada con rotación 2 en (0.00, 0.00, 4.00)\n",
      "Pieza 3 colocada con rotación 2 en (1.00, 3.00, 0.00)\n",
      "Pieza 4 colocada con rotación 1 en (3.00, 0.00, 0.00)\n",
      "Pieza 5 colocada con rotación 5 en (0.00, 0.00, 0.00)\n",
      "Pieza 6 colocada con rotación 3 en (0.00, 0.00, 2.00)\n",
      "Pieza 7 colocada con rotación 5 en (2.00, 2.00, 3.00)\n",
      "Pieza 8 colocada con rotación 4 en (3.00, 1.00, 0.00)\n",
      "Pieza 9 colocada con rotación 3 en (2.00, 3.00, 1.00)\n",
      "Pieza 10 colocada con rotación 0 en (1.00, 0.00, 0.00)\n",
      "Pieza 11 colocada con rotación 1 en (0.00, 2.00, 2.00)\n"
     ]
    }
   ],
   "source": [
    "# Mostrar resultados\n",
    "if model.status == GRB.OPTIMAL:\n",
    "    print(\"\\nSolución óptima encontrada:\\n\")\n",
    "    for i in I:\n",
    "        for r in R:\n",
    "            if X[i, r].x > 0.5:\n",
    "                print(f\"Pieza {i} colocada con rotación {r} en ({x[i].x:.2f}, {y[i].x:.2f}, {z[i].x:.2f})\")\n",
    "else:\n",
    "    print(\"No se encontró solución óptima.\")\n"
   ]
  }
 ],
 "metadata": {
  "kernelspec": {
   "display_name": "base",
   "language": "python",
   "name": "python3"
  },
  "language_info": {
   "codemirror_mode": {
    "name": "ipython",
    "version": 3
   },
   "file_extension": ".py",
   "mimetype": "text/x-python",
   "name": "python",
   "nbconvert_exporter": "python",
   "pygments_lexer": "ipython3",
   "version": "3.12.4"
  }
 },
 "nbformat": 4,
 "nbformat_minor": 2
}
